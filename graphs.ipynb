{
 "cells": [
  {
   "cell_type": "code",
   "execution_count": 1,
   "metadata": {
    "collapsed": true
   },
   "outputs": [],
   "source": [
    "import numpy as np\n",
    "import matplotlib.pyplot as plt"
   ]
  },
  {
   "cell_type": "code",
   "execution_count": 2,
   "metadata": {
    "collapsed": true
   },
   "outputs": [],
   "source": [
    "def read(input_file):\n",
    "    with open(input_file) as f:\n",
    "        data = f.read().splitlines()\n",
    "        data = [float(i) for i in data]\n",
    "    return data"
   ]
  },
  {
   "cell_type": "code",
   "execution_count": 3,
   "metadata": {
    "collapsed": true
   },
   "outputs": [],
   "source": [
    "def scatter_plot(list1, list2, list1_label, list2_label, title):\n",
    "    x = np.asarray(list1).reshape(-1, 1)\n",
    "    y = np.asarray(list2).reshape(-1, 1)\n",
    "    plt.scatter(x, y)\n",
    "    plt.xlabel(list1_label)\n",
    "    plt.ylabel(list2_label)\n",
    "    plt.title(title)\n",
    "    fig_size = plt.rcParams[\"figure.figsize\"]\n",
    "    fig_size[0] = 12\n",
    "    fig_size[1] = 12\n",
    "    plt.rcParams[\"figure.figsize\"] = fig_size\n",
    "    plt.show()"
   ]
  },
  {
   "cell_type": "code",
   "execution_count": 4,
   "metadata": {},
   "outputs": [],
   "source": [
    "#Wiki data\n",
    "bc_wiki = read(\"data_output/wiki_output/bc_ece_output.norm\")\n",
    "bs_wiki = read(\"data_output/wiki_output/bs_ece_output.norm\")\n",
    "gz1_wiki = read(\"data_output/wiki_output/gz1_ece_output.norm\")\n",
    "gz6_wiki = read(\"data_output/wiki_output/gz6_ece_output.norm\")\n",
    "lz4_wiki = read(\"data_output/wiki_output/lz4_ece_output.norm\")\n",
    "xz_wiki = read(\"data_output/wiki_output/xz_ece_output.norm\")\n",
    "avg_mean_wiki = read(\"data_output/wiki_output/avg_mean_output_raw.norm\")\n",
    "shannon_wiki = read(\"data_output/wiki_output/shannon_output_raw.norm\")\n",
    "heuristic_wiki = read(\"data_output/wiki_output/heuristic_output_raw.norm\")\n",
    "#heuristic_wiki"
   ]
  },
  {
   "cell_type": "code",
   "execution_count": 16,
   "metadata": {},
   "outputs": [
    {
     "data": {
      "image/png": "[encoded data removed]",
      "text/plain": [
       "<matplotlib.figure.Figure at 0x1122fc4e0>"
      ]
     },
     "metadata": {},
     "output_type": "display_data"
    }
   ],
   "source": [
    "#scatter_plot(bc_wiki, gz1_wiki, \"ByteCounting\", \"Gzip 1\", \"Output of Bytecounting and GZIP 1 for Wikipedia Data\")\n",
    "#scatter_plot(bs_wiki, gz1_wiki, \"Byte Standard Deviation\", \"Gzip 1\", \"Output of Byte Stdev and GZIP 1 for Wikipedia Data\")\n",
    "#scatter_plot(bc_wiki, gz6_wiki, \"ByteCounting\", \"Gzip 6\", \"Output of Bytecounting and GZIP 6 for Wikipedia Data\")\n",
    "#scatter_plot(bs_wiki, gz6_wiki, \"Byte Standard Deviation\", \"Gzip 6\", \"Output of Byte Stdev and GZIP 6 for Wikipedia Data\")\n",
    "#scatter_plot(bc_wiki, lz4_wiki, \"ByteCounting\", \"LZ4\", \"Output of Bytecounting and LZ4 for Wikipedia Data\")\n",
    "#scatter_plot(bs_wiki, lz4_wiki, \"Byte Standard Deviation\", \"LZ4\", \"Output of Byte Stdev and LZ4 for Wikipedia Data\")\n",
    "#scatter_plot(bc_wiki, xz_wiki, \"ByteCounting\", \"XZ\", \"Output of Bytecounting and XZ for Wikipedia Data\")\n",
    "#scatter_plot(bs_wiki, xz_wiki, \"Byte Standard Deviation\", \"XZ\", \"Output of Byte Standard Deviation and XZ for Wikipedia Data\")\n",
    "#scatter_plot(avg_mean_wiki, gz1_wiki, \"AVG Mean Entropy\", \"Gzip 1\", \"Output of AVG Mean Entropy and GZIP 1 for Wiki\")\n",
    "#scatter_plot(shannon_wiki, gz1_wiki, \"Shannon Entropy\", \"Gzip 1\", \"Output of Shannon Entropy and GZIP 1 for Wiki\")\n",
    "scatter_plot(heuristic_wiki, gz1_wiki, \"Heuristic Entropy\", \"Gzip 1\", \"Output of Heuristic Entropy and GZIP 1 for Wiki\")\n",
    "\n"
   ]
  },
  {
   "cell_type": "code",
   "execution_count": 6,
   "metadata": {
    "collapsed": true
   },
   "outputs": [],
   "source": [
    "# Facebook Data\n",
    "bc_fb = read(\"data_output/fb_output/bc_ece_output.norm\")\n",
    "bs_fb = read(\"data_output/fb_output/bs_ece_output.norm\")\n",
    "gz1_fb = read(\"data_output/fb_output/gz1_ece_output.norm\")\n",
    "gz6_fb = read(\"data_output/fb_output/gz6_ece_output.norm\")\n",
    "lz4_fb = read(\"data_output/fb_output/lz4_ece_output.norm\")\n",
    "xz_fb = read(\"data_output/fb_output/xz_ece_output.norm\")"
   ]
  },
  {
   "cell_type": "code",
   "execution_count": 7,
   "metadata": {
    "collapsed": true
   },
   "outputs": [],
   "source": [
    "# scatter_plot(bc_fb, gz1_fb, \"ByteCounting\", \"Gzip 1\", \"Output of Bytecounting and GZIP 1 for Facebook Data\")\n",
    "# scatter_plot(bs_fb, gz1_fb, \"Byte Standard Deviation\", \"Gzip 1\", \"Output of Byte Stdev and GZIP 1 for Facebook Data\")\n",
    "# scatter_plot(bc_fb, gz6_fb, \"ByteCounting\", \"Gzip 6\", \"Output of Bytecounting and GZIP 6 for Facebook Data\")\n",
    "# scatter_plot(bs_fb, gz6_fb, \"Byte Standard Deviation\", \"Gzip 6\", \"Output of Byte Stdev and GZIP 6 for Facebook Data\")\n",
    "# scatter_plot(bc_fb, lz4_fb, \"ByteCounting\", \"LZ4\", \"Output of Bytecounting and LZ4 for Facebook Data\")\n",
    "# scatter_plot(bs_fb, lz4_fb, \"Byte Standard Deviation\", \"LZ4\", \"Output of Byte Stdev and LZ4 for Facebook Data\")\n",
    "# scatter_plot(bc_fb, xz_fb, \"ByteCounting\", \"XZ\", \"Output of Bytecounting and XZ for Facebook Data\")\n",
    "# scatter_plot(bs_fb, xz_fb, \"Byte Standard Deviation\", \"XZ\", \"Output of Byte Standard Deviation and XZ for Facebook Data\")"
   ]
  },
  {
   "cell_type": "code",
   "execution_count": 8,
   "metadata": {
    "collapsed": true
   },
   "outputs": [],
   "source": [
    "# Youtube Data\n",
    "bc = read(\"data_output/yt_output/bc_ece_output.norm\")\n",
    "bs = read(\"data_output/yt_output/bs_ece_output.norm\")\n",
    "gz1 = read(\"data_output/yt_output/gz1_ece_output.norm\")\n",
    "gz6 = read(\"data_output/yt_output/gz6_ece_output.norm\")\n",
    "lz4 = read(\"data_output/yt_output/lz4_ece_output.norm\")\n",
    "xz = read(\"data_output/yt_output/xz_ece_output.norm\")"
   ]
  },
  {
   "cell_type": "code",
   "execution_count": 9,
   "metadata": {
    "collapsed": true
   },
   "outputs": [],
   "source": [
    "# scatter_plot(bc, gz1, \"ByteCounting\", \"Gzip 1\", \"Output of Bytecounting and GZIP 1 for Youtube Data\")\n",
    "# scatter_plot(bs, gz1, \"Byte Standard Deviation\", \"Gzip 1\", \"Output of Byte Stdev and GZIP 1 for Youtube Data\")\n",
    "# scatter_plot(bc, gz6, \"ByteCounting\", \"Gzip 6\", \"Output of Bytecounting and GZIP 6 for Youtube Data\")\n",
    "# scatter_plot(bs, gz6, \"Byte Standard Deviation\", \"Gzip 6\", \"Output of Byte Stdev and GZIP 6 for Youtube Data\")\n",
    "# scatter_plot(bc, lz4, \"ByteCounting\", \"LZ4\", \"Output of Bytecounting and LZ4 for Youtube Data\")\n",
    "# scatter_plot(bs, lz4, \"Byte Standard Deviation\", \"LZ4\", \"Output of Byte Stdev and LZ4 for Youtube Data\")\n",
    "# scatter_plot(bc, xz, \"ByteCounting\", \"XZ\", \"Output of Bytecounting and XZ for Youtube Data\")\n",
    "# scatter_plot(bs, xz, \"Byte Standard Deviation\", \"XZ\", \"Output of Byte Standard Deviation and XZ for Youtube Data\")"
   ]
  },
  {
   "cell_type": "code",
   "execution_count": 10,
   "metadata": {
    "collapsed": true
   },
   "outputs": [],
   "source": [
    "# Random Data\n",
    "bc = read(\"data_output/rn_output/bc_ece_output.norm\")\n",
    "bs = read(\"data_output/rn_output/bs_ece_output.norm\")\n",
    "gz1 = read(\"data_output/rn_output/gz1_ece_output.norm\")\n",
    "gz6 = read(\"data_output/rn_output/gz6_ece_output.norm\")\n",
    "lz4 = read(\"data_output/rn_output/lz4_ece_output.norm\")\n",
    "xz = read(\"data_output/rn_output/xz_ece_output.norm\")"
   ]
  },
  {
   "cell_type": "code",
   "execution_count": 11,
   "metadata": {},
   "outputs": [],
   "source": [
    "# scatter_plot(bc, gz1, \"ByteCounting\", \"Gzip 1\", \"Output of Bytecounting and GZIP 1 for Random Data\")\n",
    "# scatter_plot(bs, gz1, \"Byte Standard Deviation\", \"Gzip 1\", \"Output of Byte Stdev and GZIP 1 for Random Data\")\n",
    "# scatter_plot(bc, gz6, \"ByteCounting\", \"Gzip 6\", \"Output of Bytecounting and GZIP 6 for Random Data\")\n",
    "# scatter_plot(bs, gz6, \"Byte Standard Deviation\", \"Gzip 6\", \"Output of Byte Stdev and GZIP 6 for Random Data\")\n",
    "# scatter_plot(bc, lz4, \"ByteCounting\", \"LZ4\", \"Output of Bytecounting and LZ4 for Random Data\")\n",
    "# scatter_plot(bs, lz4, \"Byte Standard Deviation\", \"LZ4\", \"Output of Byte Stdev and LZ4 for Random Data\")\n",
    "# scatter_plot(bc, xz, \"ByteCounting\", \"XZ\", \"Output of Bytecounting and XZ for Random Data\")\n",
    "# scatter_plot(bs, xz, \"Byte Standard Deviation\", \"XZ\", \"Output of Byte Standard Deviation and XZ for Random Data\")"
   ]
  },
  {
   "cell_type": "code",
   "execution_count": 12,
   "metadata": {
    "collapsed": true
   },
   "outputs": [],
   "source": [
    "# Zero Data\n",
    "bc = read(\"data_output/ze_output/bc_ece_output.norm\")\n",
    "bs = read(\"data_output/ze_output/bs_ece_output.norm\")\n",
    "gz1 = read(\"data_output/ze_output/gz1_ece_output.norm\")\n",
    "gz6 = read(\"data_output/ze_output/gz6_ece_output.norm\")\n",
    "lz4 = read(\"data_output/ze_output/lz4_ece_output.norm\")\n",
    "xz = read(\"data_output/ze_output/xz_ece_output.norm\")"
   ]
  },
  {
   "cell_type": "code",
   "execution_count": 13,
   "metadata": {},
   "outputs": [],
   "source": [
    "# scatter_plot(bc, gz1, \"ByteCounting\", \"Gzip 1\", \"Output of Bytecounting and GZIP 1 for Zero Data\")\n",
    "# scatter_plot(bs, gz1, \"Byte Standard Deviation\", \"Gzip 1\", \"Output of Byte Stdev and GZIP 1 for Zero Data\")\n",
    "# scatter_plot(bc, gz6, \"ByteCounting\", \"Gzip 6\", \"Output of Bytecounting and GZIP 6 for Zero Data\")\n",
    "# scatter_plot(bs, gz6, \"Byte Standard Deviation\", \"Gzip 6\", \"Output of Byte Stdev and GZIP 6 for Zero Data\")\n",
    "# scatter_plot(bc, lz4, \"ByteCounting\", \"LZ4\", \"Output of Bytecounting and LZ4 for Random Data\")\n",
    "# scatter_plot(bs, lz4, \"Byte Standard Deviation\", \"LZ4\", \"Output of Byte Stdev and LZ4 for Zero Data\")\n",
    "# scatter_plot(bc, xz, \"ByteCounting\", \"XZ\", \"Output of Bytecounting and XZ for Zero Data\")\n",
    "# scatter_plot(bs, xz, \"Byte Standard Deviation\", \"XZ\", \"Output of Byte Standard Deviation and XZ for Zero Data\")"
   ]
  },
  {
   "cell_type": "code",
   "execution_count": null,
   "metadata": {
    "collapsed": true
   },
   "outputs": [],
   "source": []
  }
 ],
 "metadata": {
  "kernelspec": {
   "display_name": "Python 3",
   "language": "python",
   "name": "python3"
  },
  "language_info": {
   "codemirror_mode": {
    "name": "ipython",
    "version": 3
   },
   "file_extension": ".py",
   "mimetype": "text/x-python",
   "name": "python",
   "nbconvert_exporter": "python",
   "pygments_lexer": "ipython3",
   "version": "3.6.3"
  }
 },
 "nbformat": 4,
 "nbformat_minor": 2
}
