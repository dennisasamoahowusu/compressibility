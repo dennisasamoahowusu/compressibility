{
 "cells": [
  {
   "cell_type": "code",
   "execution_count": 1,
   "metadata": {
    "collapsed": true
   },
   "outputs": [],
   "source": [
    "import numpy as np\n",
    "import matplotlib.pyplot as plt"
   ]
  },
  {
   "cell_type": "code",
   "execution_count": 2,
   "metadata": {
    "collapsed": true
   },
   "outputs": [],
   "source": [
    "def read(input_file):\n",
    "    with open(input_file) as f:\n",
    "        data = f.read().splitlines()\n",
    "        data = [float(i) for i in data]\n",
    "    return data"
   ]
  },
  {
   "cell_type": "code",
   "execution_count": 30,
   "metadata": {
    "collapsed": true
   },
   "outputs": [],
   "source": [
    "def scatter_plot(list1, list2, list1_label, list2_label):\n",
    "    x = np.asarray(list1).reshape(-1, 1)\n",
    "    y = np.asarray(list2).reshape(-1, 1)\n",
    "    plt.scatter(x, y)\n",
    "    plt.xlabel(list1_label)\n",
    "    plt.ylabel(list2_label)\n",
    "    plt.title('ECE Outputs')\n",
    "    fig_size = plt.rcParams[\"figure.figsize\"]\n",
    "    fig_size[0] = 12\n",
    "    fig_size[1] = 12\n",
    "    plt.rcParams[\"figure.figsize\"] = fig_size\n",
    "    plt.show()"
   ]
  },
  {
   "cell_type": "code",
   "execution_count": 31,
   "metadata": {},
   "outputs": [],
   "source": [
    "#Wiki data\n",
    "bc_wiki = read(\"data_output/wiki_output/bc_ece_output.norm\")\n",
    "bs_wiki = read(\"data_output/wiki_output/bs_ece_output.norm\")\n",
    "gz1_wiki = read(\"data_output/wiki_output/gz1_ece_output.norm\")\n",
    "gz6_wiki = read(\"data_output/wiki_output/gz6_ece_output.norm\")\n",
    "lz4_wiki = read(\"data_output/wiki_output/lz4_ece_output.norm\")\n",
    "xz_wiki = read(\"data_output/wiki_output/xz_ece_output.norm\")\n",
    "\n",
    "\n"
   ]
  },
  {
   "cell_type": "code",
   "execution_count": 32,
   "metadata": {},
   "outputs": [
    {
     "data": {
      "image/png": "[encoded data removed]",
      "text/plain": [
       "<matplotlib.figure.Figure at 0x113de07f0>"
      ]
     },
     "metadata": {},
     "output_type": "display_data"
    }
   ],
   "source": [
    "scatter_plot(bc_wiki, gz1_wiki, \"ByteCounting\", \"Gzip 1\")"
   ]
  },
  {
   "cell_type": "code",
   "execution_count": null,
   "metadata": {
    "collapsed": true
   },
   "outputs": [],
   "source": []
  }
 ],
 "metadata": {
  "kernelspec": {
   "display_name": "Python 3",
   "language": "python",
   "name": "python3"
  },
  "language_info": {
   "codemirror_mode": {
    "name": "ipython",
    "version": 3
   },
   "file_extension": ".py",
   "mimetype": "text/x-python",
   "name": "python",
   "nbconvert_exporter": "python",
   "pygments_lexer": "ipython3",
   "version": "3.6.3"
  }
 },
 "nbformat": 4,
 "nbformat_minor": 2
}
