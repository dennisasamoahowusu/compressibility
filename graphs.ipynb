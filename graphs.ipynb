{
 "cells": [
  {
   "cell_type": "code",
   "execution_count": 1,
   "metadata": {
    "collapsed": true
   },
   "outputs": [],
   "source": [
    "import numpy as np\n",
    "import matplotlib.pyplot as plt"
   ]
  },
  {
   "cell_type": "code",
   "execution_count": 2,
   "metadata": {
    "collapsed": true
   },
   "outputs": [],
   "source": [
    "def read(input_file):\n",
    "    with open(input_file) as f:\n",
    "        data = f.read().splitlines()\n",
    "        data = [float(i) for i in data]\n",
    "    return data"
   ]
  },
  {
   "cell_type": "code",
   "execution_count": 34,
   "metadata": {
    "collapsed": true
   },
   "outputs": [],
   "source": [
    "def scatter_plot(list1, list2, list1_label, list2_label, title):\n",
    "    x = np.asarray(list1).reshape(-1, 1)\n",
    "    y = np.asarray(list2).reshape(-1, 1)\n",
    "    plt.scatter(x, y)\n",
    "    plt.xlabel(list1_label)\n",
    "    plt.ylabel(list2_label)\n",
    "    plt.title(title)\n",
    "    fig_size = plt.rcParams[\"figure.figsize\"]\n",
    "    fig_size[0] = 12\n",
    "    fig_size[1] = 12\n",
    "    plt.rcParams[\"figure.figsize\"] = fig_size\n",
    "    plt.show()"
   ]
  },
  {
   "cell_type": "code",
   "execution_count": 35,
   "metadata": {
    "collapsed": true
   },
   "outputs": [],
   "source": [
    "#Wiki data\n",
    "bc_wiki = read(\"data_output/wiki_output/bc_ece_output.norm\")\n",
    "bs_wiki = read(\"data_output/wiki_output/bs_ece_output.norm\")\n",
    "gz1_wiki = read(\"data_output/wiki_output/gz1_ece_output.norm\")\n",
    "gz6_wiki = read(\"data_output/wiki_output/gz6_ece_output.norm\")\n",
    "lz4_wiki = read(\"data_output/wiki_output/lz4_ece_output.norm\")\n",
    "xz_wiki = read(\"data_output/wiki_output/xz_ece_output.norm\")\n",
    "\n",
    "\n"
   ]
  },
  {
   "cell_type": "code",
   "execution_count": 55,
   "metadata": {},
   "outputs": [],
   "source": [
    "#scatter_plot(bc_wiki, gz1_wiki, \"ByteCounting\", \"Gzip 1\", \"Output of Bytecounting and GZIP 1 for Wikipedia Data\")\n",
    "#scatter_plot(bs_wiki, gz1_wiki, \"Byte Standard Deviation\", \"Gzip 1\", \"Output of Byte Stdev and GZIP 1 for Wikipedia Data\")\n",
    "#scatter_plot(bc_wiki, gz6_wiki, \"ByteCounting\", \"Gzip 6\", \"Output of Bytecounting and GZIP 6 for Wikipedia Data\")\n",
    "#scatter_plot(bs_wiki, gz6_wiki, \"Byte Standard Deviation\", \"Gzip 6\", \"Output of Byte Stdev and GZIP 6 for Wikipedia Data\")\n",
    "#scatter_plot(bc_wiki, lz4_wiki, \"ByteCounting\", \"LZ4\", \"Output of Bytecounting and LZ4 for Wikipedia Data\")\n",
    "#scatter_plot(bs_wiki, lz4_wiki, \"Byte Standard Deviation\", \"LZ4\", \"Output of Byte Stdev and LZ4 for Wikipedia Data\")\n",
    "#scatter_plot(bc_wiki, xz_wiki, \"ByteCounting\", \"XZ\", \"Output of Bytecounting and XZ for Wikipedia Data\")\n",
    "#scatter_plot(bs_wiki, xz_wiki, \"Byte Standard Deviation\", \"XZ\", \"Output of Byte Standard Deviation and XZ for Wikipedia Data\")"
   ]
  },
  {
   "cell_type": "code",
   "execution_count": 57,
   "metadata": {},
   "outputs": [],
   "source": [
    "# Facebook Data\n",
    "bc_fb = read(\"data_output/fb_output/bc_ece_output.norm\")\n",
    "bs_fb = read(\"data_output/fb_output/bs_ece_output.norm\")\n",
    "gz1_fb = read(\"data_output/fb_output/gz1_ece_output.norm\")\n",
    "gz6_fb = read(\"data_output/fb_output/gz6_ece_output.norm\")\n",
    "lz4_fb = read(\"data_output/fb_output/lz4_ece_output.norm\")\n",
    "xz_fb = read(\"data_output/fb_output/xz_ece_output.norm\")"
   ]
  },
  {
   "cell_type": "code",
   "execution_count": 66,
   "metadata": {},
   "outputs": [],
   "source": [
    "# scatter_plot(bc_fb, gz1_fb, \"ByteCounting\", \"Gzip 1\", \"Output of Bytecounting and GZIP 1 for Facebook Data\")\n",
    "# scatter_plot(bs_fb, gz1_fb, \"Byte Standard Deviation\", \"Gzip 1\", \"Output of Byte Stdev and GZIP 1 for Facebook Data\")\n",
    "# scatter_plot(bc_fb, gz6_fb, \"ByteCounting\", \"Gzip 6\", \"Output of Bytecounting and GZIP 6 for Facebook Data\")\n",
    "# scatter_plot(bs_fb, gz6_fb, \"Byte Standard Deviation\", \"Gzip 6\", \"Output of Byte Stdev and GZIP 6 for Facebook Data\")\n",
    "# scatter_plot(bc_fb, lz4_fb, \"ByteCounting\", \"LZ4\", \"Output of Bytecounting and LZ4 for Facebook Data\")\n",
    "# scatter_plot(bs_fb, lz4_fb, \"Byte Standard Deviation\", \"LZ4\", \"Output of Byte Stdev and LZ4 for Facebook Data\")\n",
    "# scatter_plot(bc_fb, xz_fb, \"ByteCounting\", \"XZ\", \"Output of Bytecounting and XZ for Facebook Data\")\n",
    "# scatter_plot(bs_fb, xz_fb, \"Byte Standard Deviation\", \"XZ\", \"Output of Byte Standard Deviation and XZ for Facebook Data\")"
   ]
  },
  {
   "cell_type": "code",
   "execution_count": 48,
   "metadata": {},
   "outputs": [],
   "source": []
  },
  {
   "cell_type": "code",
   "execution_count": 49,
   "metadata": {},
   "outputs": [],
   "source": []
  },
  {
   "cell_type": "code",
   "execution_count": 50,
   "metadata": {},
   "outputs": [],
   "source": []
  },
  {
   "cell_type": "code",
   "execution_count": 52,
   "metadata": {},
   "outputs": [],
   "source": []
  },
  {
   "cell_type": "code",
   "execution_count": 54,
   "metadata": {},
   "outputs": [],
   "source": []
  },
  {
   "cell_type": "code",
   "execution_count": null,
   "metadata": {
    "collapsed": true
   },
   "outputs": [],
   "source": []
  }
 ],
 "metadata": {
  "kernelspec": {
   "display_name": "Python 3",
   "language": "python",
   "name": "python3"
  },
  "language_info": {
   "codemirror_mode": {
    "name": "ipython",
    "version": 3
   },
   "file_extension": ".py",
   "mimetype": "text/x-python",
   "name": "python",
   "nbconvert_exporter": "python",
   "pygments_lexer": "ipython3",
   "version": "3.6.3"
  }
 },
 "nbformat": 4,
 "nbformat_minor": 2
}
